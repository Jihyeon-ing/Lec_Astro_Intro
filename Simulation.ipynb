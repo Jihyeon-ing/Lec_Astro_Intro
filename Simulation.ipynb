{
 "cells": [
  {
   "cell_type": "code",
   "execution_count": 200,
   "id": "63b2cde2",
   "metadata": {},
   "outputs": [],
   "source": [
    "%matplotlib qt5\n",
    "import matplotlib.pyplot as plt\n",
    "from mpl_toolkits.mplot3d import Axes3D\n",
    "import numpy as np"
   ]
  },
  {
   "cell_type": "code",
   "execution_count": 247,
   "id": "10112bb0",
   "metadata": {},
   "outputs": [],
   "source": [
    "## Simulation I: two masses affected by gravity\n",
    "\n",
    "# unit time\n",
    "dt = 1      \n",
    "\n",
    "# mass of a and b\n",
    "mass_a = 5000\n",
    "mass_b = 500\n",
    "\n",
    "# position vectors of a and b\n",
    "pos_a = np.array([0, 0, 0], dtype='f')\n",
    "pos_b = np.array([150, 0, 0], dtype='f')\n",
    "\n",
    "# velocity vectors of a and b\n",
    "vel_a = np.array([0, 0, 0], dtype='f')\n",
    "vel_b = np.array([0, -5, 0], dtype='f')"
   ]
  },
  {
   "cell_type": "code",
   "execution_count": 248,
   "id": "27b62567",
   "metadata": {},
   "outputs": [],
   "source": [
    "# define gravity \n",
    "def gravity(pos1, pos2, mass1, mass2):\n",
    "    G = 1\n",
    "    distance = np.sqrt(np.sum((pos2 - pos1) ** 2))\n",
    "    direction = (pos2 - pos1) / distance\n",
    "    \n",
    "    force = G * (mass1 * mass2) / (distance ** 2) * direction\n",
    "    \n",
    "    return force"
   ]
  },
  {
   "cell_type": "code",
   "execution_count": 249,
   "id": "a506696d",
   "metadata": {},
   "outputs": [],
   "source": [
    "step = 100\n",
    "\n",
    "fig = plt.figure()\n",
    "\n",
    "# simulation process \n",
    "for i in range(step):\n",
    "    accel_a = (1/mass_a) * gravity(pos_a, pos_b, mass_a, mass_b) \n",
    "    accel_b = (1/mass_b) * gravity(pos_b, pos_a, mass_b, mass_a)\n",
    "    \n",
    "    pos_a = pos_a + vel_a * dt + (1/2) * accel_a * (dt**2)\n",
    "    pos_b = pos_b + vel_b * dt + (1/2) * accel_b * (dt**2)\n",
    "    \n",
    "    vel_a = vel_a + accel_a * dt\n",
    "    vel_b = vel_b + accel_b * dt\n",
    "    \n",
    "    ax = plt.axes(projection='3d')\n",
    "    \n",
    "    ax.scatter(pos_a[0], pos_a[1], pos_a[2], color='r', marker='o', s=150, label='a')\n",
    "    ax.scatter(pos_b[0], pos_b[1], pos_b[2], color='b', marker='o', s=50, label='b')\n",
    "    \n",
    "    ax.set_xlim(-500, 500)\n",
    "    ax.set_ylim(-500, 500)\n",
    "    ax.set_zlim(-500, 500)\n",
    "    \n",
    "    plt.legend()\n",
    "    plt.pause(0.1)\n",
    "    plt.clf()"
   ]
  },
  {
   "cell_type": "code",
   "execution_count": 295,
   "id": "5e59718a",
   "metadata": {},
   "outputs": [],
   "source": [
    "# Simulation II: Projectile motion \n",
    "\n",
    "dt = 1\n",
    "g = 9.8\n",
    "theta = np.pi / 3\n",
    "v0 = 70\n",
    "vx = v0 * np.cos(theta)\n",
    "vy = v0 * np.sin(theta)\n",
    "x = 0\n",
    "y = 300\n",
    "\n",
    "step = 100\n",
    "\n",
    "fig = plt.figure()\n",
    "\n",
    "for i in range(step):\n",
    "    x = x + vx * dt\n",
    "    \n",
    "    vy -= g * dt\n",
    "    y = y + vy * dt - (g * dt**2) /2\n",
    "    ax = plt.axes()\n",
    "    \n",
    "    ax.scatter(x, y, color='r', marker='o', s=150, label='a')\n",
    "    \n",
    "    ax.set_xlim(-10, 500)\n",
    "    ax.set_ylim(-10, 500)\n",
    "\n",
    "    plt.legend()\n",
    "    plt.pause(0.1)\n",
    "    plt.clf()"
   ]
  }
 ],
 "metadata": {
  "kernelspec": {
   "display_name": "Python 3 (ipykernel)",
   "language": "python",
   "name": "python3"
  },
  "language_info": {
   "codemirror_mode": {
    "name": "ipython",
    "version": 3
   },
   "file_extension": ".py",
   "mimetype": "text/x-python",
   "name": "python",
   "nbconvert_exporter": "python",
   "pygments_lexer": "ipython3",
   "version": "3.8.13"
  }
 },
 "nbformat": 4,
 "nbformat_minor": 5
}
